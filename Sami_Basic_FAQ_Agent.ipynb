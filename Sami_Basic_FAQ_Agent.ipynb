{
  "cells": [
    {
      "cell_type": "code",
      "execution_count": null,
      "metadata": {
        "collapsed": true,
        "id": "aMy_60H9l6dd"
      },
      "outputs": [],
      "source": [
        "!pip install openai langchain langchain-community langchain-core"
      ]
    },
    {
      "cell_type": "code",
      "execution_count": null,
      "metadata": {
        "collapsed": true,
        "id": "OMgRh6AUeU-6"
      },
      "outputs": [],
      "source": [
        "from google.colab import userdata\n",
        "userdata.get('openai-apikey')"
      ]
    },
    {
      "cell_type": "code",
      "execution_count": 4,
      "metadata": {
        "colab": {
          "base_uri": "https://localhost:8080/",
          "height": 349
        },
        "id": "HgE7tjDgla-U",
        "outputId": "98a69a4c-8a9f-4be7-b35f-bb3810d34b13"
      },
      "outputs": [
        {
          "name": "stdout",
          "output_type": "stream",
          "text": [
            "Welcome to the AI FAQ Chatbot! Ask me about agents and their benefits. Type 'exit' to stop.\n",
            "You: What is an AI agent?\n",
            "Bot: An AI agent is a system that can autonomously perform tasks based on inputs and learned knowledge.\n",
            "You: How can AI agents improve efficiency?\n",
            "Bot: AI agents can improve efficiency by automating repetitive tasks, streamlining decision-making, and enhancing customer support with accurate responses.\n",
            "You: What industries benefit most from AI agents?\n",
            "Bot: Industries like healthcare, e-commerce, finance, and customer support heavily benefit from AI agents.\n",
            "You: Are AI agents customizable?\n",
            "Bot: Yes, AI agents can be trained with specific data and prompts to suit various use cases.\n",
            "You: What are the main challenges in developing AI agents?\n",
            "Bot: The main challenges in developing AI agents include ensuring data quality, handling complex tasks, addressing ethical concerns, and achieving reliable performance across various scenarios.\n",
            "You: What makes AI agents different from traditional software?\n",
            "Bot: AI agents can learn, adapt, and make decisions autonomously, unlike traditional software which follows preset instructions.\n",
            "You: Can AI agents work without human supervision?\n",
            "Bot: Yes, AI agents can perform tasks autonomously with minimal human supervision.\n",
            "You: exit\n",
            "Goodbye!\n"
          ]
        },
        {
          "data": {
            "text/plain": [
              "None"
            ]
          },
          "metadata": {},
          "output_type": "display_data"
        }
      ],
      "source": [
        "# Import necessary libraries\n",
        "import openai\n",
        "from langchain.chat_models import ChatOpenAI\n",
        "from langchain.prompts import PromptTemplate\n",
        "from langchain.chains import LLMChain\n",
        "\n",
        "# Set up OpenAI API key\n",
        "import os\n",
        "os.environ[\"OPENAI_API_KEY\"] = userdata.get('openai-apikey')  # Replace with your API key\n",
        "\n",
        "# Sample FAQ data on agents and their benefits\n",
        "faq_data = [\n",
        "    {\"question\": \"What is an AI agent?\", \"answer\": \"An AI agent is a system that can autonomously perform tasks based on inputs and learned knowledge.\"},\n",
        "    {\"question\": \"How can AI agents improve efficiency?\", \"answer\": \"AI agents can automate repetitive tasks, streamline decision-making, and enhance customer support with accurate responses.\"},\n",
        "    {\"question\": \"What industries benefit most from AI agents?\", \"answer\": \"Industries like healthcare, e-commerce, finance, and customer support heavily benefit from AI agents.\"},\n",
        "    {\"question\": \"Are AI agents customizable?\", \"answer\": \"Yes, AI agents can be trained with specific data and prompts to suit various use cases.\"},\n",
        "    {\"question\": \"What are the main challenges in developing AI agents?\", \"answer\": \"The main challenges in developing AI agents include ensuring data quality, handling complex tasks, addressing ethical concerns, and achieving reliable performance across various scenarios.\"},\n",
        "    {\"question\": \"What makes AI agents different from traditional software?\", \"answer\": \"AI agents can learn, adapt, and make decisions autonomously, unlike traditional software which follows preset instructions.\"},\n",
        "    {\"question\": \"Can AI agents work without human supervision?\", \"answer\": \"Yes, AI agents can perform tasks autonomously with minimal human supervision.\"}\n",
        "]\n",
        "\n",
        "# Initialize the GPT-4o mini model\n",
        "chat_model = ChatOpenAI(model=\"gpt-4o-mini\", temperature=0.7)\n",
        "\n",
        "# Create a template for chatbot responses\n",
        "faq_template = PromptTemplate(\n",
        "    input_variables=[\"question\"],\n",
        "    template=\"You are an AI chatbot. Answer this question based on the provided FAQ data:\\n{faq_data}\\nQuestion: {question}\"\n",
        ")\n",
        "\n",
        "# Create a chain for handling chatbot interactions\n",
        "faq_chain = LLMChain(\n",
        "    prompt=faq_template,\n",
        "    llm=chat_model\n",
        ")\n",
        "\n",
        "# Function to handle user queries\n",
        "def chatbot():\n",
        "    print(\"Welcome to the AI FAQ Chatbot! Ask me about agents and their benefits. Type 'exit' to stop.\")\n",
        "    while True:\n",
        "        user_input = input(\"You: \")\n",
        "        if user_input.lower() == 'exit':\n",
        "            print(\"Goodbye!\")\n",
        "            break\n",
        "        response = faq_chain.run({\"question\": user_input, \"faq_data\": faq_data})\n",
        "        print(\"Bot:\", response)\n",
        "\n",
        "# Run the chatbot in Colab\n",
        "display(chatbot())"
      ]
    },
    {
      "cell_type": "code",
      "execution_count": null,
      "metadata": {
        "id": "SB61PFNRrTaL"
      },
      "outputs": [],
      "source": []
    }
  ],
  "metadata": {
    "accelerator": "GPU",
    "colab": {
      "gpuType": "T4",
      "provenance": []
    },
    "kernelspec": {
      "display_name": "Python 3",
      "name": "python3"
    },
    "language_info": {
      "name": "python"
    }
  },
  "nbformat": 4,
  "nbformat_minor": 0
}
